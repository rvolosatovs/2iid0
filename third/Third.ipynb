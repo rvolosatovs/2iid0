{
 "cells": [
  {
   "cell_type": "code",
   "execution_count": null,
   "metadata": {},
   "outputs": [],
   "source": [
    "%matplotlib inline\n",
    "\n",
    "import math\n",
    "import datetime\n",
    "from enum import IntEnum\n",
    "\n",
    "import numpy as np\n",
    "import matplotlib.pyplot as plt\n",
    "import pandas as pd\n",
    "import graphviz\n",
    "\n",
    "from sklearn import tree, metrics, svm\n",
    "from sklearn.model_selection import train_test_split\n",
    "from sklearn.preprocessing import LabelBinarizer, Imputer\n",
    "\n",
    "import subprocess\n",
    "import json"
   ]
  },
  {
   "cell_type": "code",
   "execution_count": null,
   "metadata": {
    "scrolled": true
   },
   "outputs": [],
   "source": [
    "md = pd.read_csv(\"meta_data\", header=0, sep='\\t', engine=\"python\")\n",
    "cd = pd.read_csv(\"clicking_data\", header=0, sep='\\t', engine=\"python\")\n",
    "ed = pd.read_csv(\"experiment_details\", header=0, sep='\\t', engine=\"python\")"
   ]
  },
  {
   "cell_type": "code",
   "execution_count": null,
   "metadata": {},
   "outputs": [],
   "source": [
    "# Inner SQL joins\n",
    "df = pd.merge(md,ed, how='inner', on='user_id')\n",
    "df = pd.merge(df,cd, how='inner', left_on='user_id', right_on='user_session')\n",
    "\n",
    "# Preprocess data for EMM\n",
    "df['condition_1'] = df.condition.apply(lambda x: x == '1-Control')\n",
    "df['clicked'] = df.action.apply(lambda x: x == 'clic')\n",
    "df['useragent'] = df.useragent.apply(lambda x: x.split()[0])\n",
    "\n",
    "df = df.drop(columns=['condition', 'action', # preprocessed\n",
    "                      \n",
    "                      'user_id', 'experiment_id',\n",
    "                      'timestamp', 'action_label', 'action_type', \n",
    "                      'tstamp', 'user_session',\n",
    "                      'platform', 'etl_tstamp', 'collector_tstamp', 'dvce_created_tstamp',\n",
    "                      'domain_userid', 'domain_sessionid',\n",
    "                      'page_referrer', 'page_title', 'page_url',\n",
    "                      # irrelevant\n",
    "                      \n",
    "                      'geo_city', 'geo_country',\n",
    "                      'geo_region_name', 'geo_timezone',\n",
    "                      'os_timezone',\n",
    "                      # geo_region provides enough insight, should be more precise than country\n",
    "                      \n",
    "                     'user_id'])[df['event'] == 'page_view'].drop(columns=['event']).reset_index()\n",
    "\n",
    "cols = df.columns.values\n",
    "for col in cols:\n",
    "    if df[col].nunique() < 2:\n",
    "        print('Dropping {0} column: {1} unique values'.format(col, df[col].nunique()))\n",
    "        df = df.drop(columns=[col])\n",
    "        \n",
    "print('Row columns: {0}'.format(df.columns.values[1:]))"
   ]
  },
  {
   "cell_type": "code",
   "execution_count": null,
   "metadata": {},
   "outputs": [],
   "source": [
    "print(df.nunique())"
   ]
  },
  {
   "cell_type": "code",
   "execution_count": null,
   "metadata": {},
   "outputs": [],
   "source": [
    "encoded=json.dumps({\n",
    "    \"rows\": json.loads(df.to_json(orient=\"records\")),\n",
    "    \"width\":3,\n",
    "    \"depth\":3,\n",
    "    \"results\":20,\n",
    "    \"bins\":30,\n",
    "    \"targets\":{\n",
    "        \"Clicked\": True,\n",
    "        \"Condition1\": True,\n",
    "    },\n",
    "})"
   ]
  },
  {
   "cell_type": "code",
   "execution_count": null,
   "metadata": {},
   "outputs": [],
   "source": [
    "with open(\"input.json\", \"w\") as f:\n",
    "    f.write(encoded)"
   ]
  },
  {
   "cell_type": "code",
   "execution_count": null,
   "metadata": {},
   "outputs": [],
   "source": [
    "p = subprocess.run(\"./beam\", stdout=subprocess.PIPE, stderr=subprocess.PIPE, input=encoded, universal_newlines=True)\n",
    "display(p.stderr[len(p.stderr)-1000:].split('\\n'))\n",
    "display(p.stdout[:1000].split('\\n'))"
   ]
  },
  {
   "cell_type": "markdown",
   "metadata": {},
   "source": [
    "I worked alone on the assignment.\n",
    "Beam search implementation is located in `beam.go`, which is also submitted.\n",
    "I tried optimizing the implementation in various ways, but the execution still is very computationally intensive, hence I did not manage to experiment with different algorithm parameters too much(execution simply takes too much time, even after extensive profiling)"
   ]
  }
 ],
 "metadata": {
  "kernelspec": {
   "display_name": "Python 3",
   "language": "python",
   "name": "python3"
  },
  "language_info": {
   "codemirror_mode": {
    "name": "ipython",
    "version": 3
   },
   "file_extension": ".py",
   "mimetype": "text/x-python",
   "name": "python",
   "nbconvert_exporter": "python",
   "pygments_lexer": "ipython3",
   "version": "3.6.4"
  }
 },
 "nbformat": 4,
 "nbformat_minor": 2
}
