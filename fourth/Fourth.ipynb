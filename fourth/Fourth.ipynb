{
 "cells": [
  {
   "cell_type": "code",
   "execution_count": null,
   "metadata": {
    "scrolled": false
   },
   "outputs": [],
   "source": [
    "%matplotlib inline\n",
    "\n",
    "import random\n",
    "import numpy as np\n",
    "import matplotlib.pyplot as plt\n",
    "import pandas as pd\n",
    "import networkx as nx\n",
    "import community"
   ]
  },
  {
   "cell_type": "code",
   "execution_count": null,
   "metadata": {
    "scrolled": false
   },
   "outputs": [],
   "source": [
    "# Load the edge list and create a directed Graph\n",
    "with open(\"hamster.edgelist\", 'rb') as fh:\n",
    "    G = nx.read_edgelist(fh, create_using=nx.DiGraph())"
   ]
  },
  {
   "cell_type": "code",
   "execution_count": null,
   "metadata": {
    "scrolled": false
   },
   "outputs": [],
   "source": [
    "# Visualize a pandas DataFrame\n",
    "def visualize(df, name=\"graph\"):\n",
    "    print('Pagerank distribution')\n",
    "    df['pagerank'].plot.hist(bins=100)\n",
    "    plt.title('PageRank Distribution')\n",
    "    plt.savefig(name + \".png\", bbox_inches='tight')\n",
    "    plt.show()\n",
    "    \n",
    "    print('Log scale')\n",
    "    df['pagerank'].apply(np.log).plot.hist(bins=100)\n",
    "    plt.title('PageRank Distribution (log scale)')\n",
    "    plt.savefig(name + \"_log.png\", bbox_inches='tight')\n",
    "    plt.show()"
   ]
  },
  {
   "cell_type": "code",
   "execution_count": null,
   "metadata": {
    "scrolled": false
   },
   "outputs": [],
   "source": [
    "# Sort a pandas DataFrame by PageRank\n",
    "def sort_by_pagerank(df):\n",
    "    df = df.sort_values(by='pagerank', ascending=False).reset_index().rename_axis('rank').reset_index().set_index('id')\n",
    "    df['rank'] += 1\n",
    "    return df"
   ]
  },
  {
   "cell_type": "code",
   "execution_count": null,
   "metadata": {
    "scrolled": false
   },
   "outputs": [],
   "source": [
    "# Calculate the PageRank for the nodes in directed graph G\n",
    "def pagerank(G):\n",
    "    return sort_by_pagerank(pd.DataFrame.from_dict(nx.pagerank(G), orient='index').rename(columns={0: 'pagerank'}).rename_axis('id'))"
   ]
  },
  {
   "cell_type": "code",
   "execution_count": null,
   "metadata": {
    "scrolled": false
   },
   "outputs": [],
   "source": [
    "# Display some PageRank statistics from a pandas DataFrame\n",
    "def display_rank(df):\n",
    "    df = sort_by_pagerank(df)\n",
    "    \n",
    "    print(\"Top 10:\\n\")\n",
    "    display(df.head(10))\n",
    "    \n",
    "    print(\"Lowest 10:\\n\")\n",
    "    display(df.tail(10))"
   ]
  },
  {
   "cell_type": "code",
   "execution_count": null,
   "metadata": {
    "scrolled": false
   },
   "outputs": [],
   "source": [
    "def rank_error(df):\n",
    "    return df.apply(lambda r: abs(r['rank'] - r['rank_base'])/r['rank_base'], axis='columns').sum()"
   ]
  },
  {
   "cell_type": "code",
   "execution_count": null,
   "metadata": {
    "scrolled": false
   },
   "outputs": [],
   "source": [
    "def pagerank_error(df):\n",
    "    return df.apply(lambda r: abs(r['pagerank'] - r['pagerank_base'])/r['rank_base'], axis='columns').sum()"
   ]
  },
  {
   "cell_type": "code",
   "execution_count": null,
   "metadata": {
    "scrolled": false
   },
   "outputs": [],
   "source": [
    "def errors_of(i, df):\n",
    "    df = df.rename(columns={'pagerank_{0}'.format(i):'pagerank','rank_{0}'.format(i):'rank'})\n",
    "    return (rank_error(df), pagerank_error(df))"
   ]
  },
  {
   "cell_type": "code",
   "execution_count": null,
   "metadata": {
    "scrolled": false
   },
   "outputs": [],
   "source": [
    "def display_errors(df):\n",
    "    display(\"Rank error: {0}\".format(rank_error(df)))\n",
    "    display(\"Pagerank error: {0}\".format(pagerank_error(df)))"
   ]
  },
  {
   "cell_type": "code",
   "execution_count": null,
   "metadata": {
    "scrolled": false
   },
   "outputs": [],
   "source": [
    "# Retrieve the nodes that have a certain in-degree and out-degree\n",
    "def get_nodes_by_degree(graph, in_degree, out_degree):\n",
    "    # Initialize a list to store the nodes in\n",
    "    nodes = []\n",
    "\n",
    "    # Loop through all the nodes and the degrees\n",
    "    for node in graph.nodes():\n",
    "        if graph.in_degree(node) == in_degree and graph.out_degree(node) == out_degree:\n",
    "            nodes.append(node)\n",
    "\n",
    "    return nodes"
   ]
  },
  {
   "cell_type": "code",
   "execution_count": null,
   "metadata": {
    "scrolled": false
   },
   "outputs": [],
   "source": [
    "# Get the leaf nodes of a graph\n",
    "def get_leaves(graph):\n",
    "    return get_nodes_by_degree(graph, 1, 0)"
   ]
  },
  {
   "cell_type": "code",
   "execution_count": null,
   "metadata": {
    "scrolled": false
   },
   "outputs": [],
   "source": [
    "# Retrieve some statistics per node\n",
    "def get_node_statistics(graph):\n",
    "    # Initialize a list to store the nodes in\n",
    "    nodes = []\n",
    "\n",
    "    for node in graph.nodes():\n",
    "        in_degree = graph.in_degree(node)\n",
    "        out_degree = graph.out_degree(node)\n",
    "\n",
    "        nodes.append({\n",
    "            'node': node,\n",
    "            'in_degree': in_degree,\n",
    "            'out_degree': out_degree,\n",
    "            'sum': in_degree + out_degree\n",
    "        })\n",
    "        \n",
    "    return pd.DataFrame.from_records(nodes, index='node')"
   ]
  },
  {
   "cell_type": "markdown",
   "metadata": {},
   "source": [
    "#### Original graph"
   ]
  },
  {
   "cell_type": "code",
   "execution_count": null,
   "metadata": {
    "scrolled": false
   },
   "outputs": [],
   "source": [
    "df = pagerank(G)\n",
    "visualize(df, \"base\")\n",
    "df = df.rename(columns={'rank':'rank_base','pagerank':'pagerank_base'})"
   ]
  },
  {
   "cell_type": "code",
   "execution_count": null,
   "metadata": {
    "scrolled": false
   },
   "outputs": [],
   "source": [
    "random.seed(420) # ensure output is deterministic"
   ]
  },
  {
   "cell_type": "markdown",
   "metadata": {},
   "source": [
    "#### Graph with random edges removed"
   ]
  },
  {
   "cell_type": "code",
   "execution_count": null,
   "metadata": {
    "scrolled": false
   },
   "outputs": [],
   "source": [
    "Gx = G.copy()\n",
    "Gx.remove_edges_from(random.sample(G.edges(), 20*G.number_of_edges()//100))\n",
    "pr = pagerank(Gx)\n",
    "visualize(pr, \"random_edges_removed\")\n",
    "df = pd.merge(df, pr, left_index=True, right_index=True, how='outer').sort_values(by='rank_base')\n",
    "display_errors(df)\n",
    "df = df.rename(columns={'pagerank':'pagerank_1','rank':'rank_1'})"
   ]
  },
  {
   "cell_type": "markdown",
   "metadata": {},
   "source": [
    "#### Graph with random leaves (and their edges) removed"
   ]
  },
  {
   "cell_type": "code",
   "execution_count": null,
   "metadata": {
    "scrolled": true
   },
   "outputs": [],
   "source": [
    "# Create a copy of the original graph\n",
    "Gx = G.copy()\n",
    "\n",
    "# Randomly remove leaves from the graph\n",
    "leaves = get_leaves(Gx)\n",
    "leaf_edges = Gx.in_edges(leaves)\n",
    "\n",
    "# Remove edges only\n",
    "Gx.remove_edges_from(random.sample(list(leaf_edges), 20*len(leaf_edges)//100))\n",
    "\n",
    "# Remove both edges and nodes\n",
    "# Gx.remove_nodes_from(random.sample(leaves, 20*len(leaves)//100))\n",
    "\n",
    "# Calculate the PageRank\n",
    "pr = pagerank(Gx)\n",
    "\n",
    "# Show some statistics about the new graph\n",
    "visualize(pr, \"random_leaves_removed\")\n",
    "df = pd.merge(df, pr, left_index=True, right_index=True, how='outer').sort_values(by='rank_base')\n",
    "display_errors(df)\n",
    "df = df.rename(columns={'pagerank':'pagerank_2','rank':'rank_2'})"
   ]
  },
  {
   "cell_type": "markdown",
   "metadata": {},
   "source": [
    "#### Graph with most connected nodes removed"
   ]
  },
  {
   "cell_type": "code",
   "execution_count": null,
   "metadata": {
    "scrolled": false
   },
   "outputs": [],
   "source": [
    "# Create a copy of the original graph\n",
    "Gx = G.copy()\n",
    "\n",
    "# Sort list in descending order\n",
    "connected = get_node_statistics(Gx).sort_values(['sum'], ascending=False)\n",
    "\n",
    "# Select the x most connected nodes, where x is random\n",
    "most_connected = connected.head(random.randint(1, 20*len(connected)//100))\n",
    "\n",
    "# Remove some of the most connected nodes\n",
    "Gx.remove_nodes_from(most_connected.index.tolist())\n",
    "\n",
    "# Calculate the PageRank\n",
    "pr = pagerank(Gx)\n",
    "\n",
    "# Show some statistics about the new graph\n",
    "visualize(pr)\n",
    "df = pd.merge(df, pr, left_index=True, right_index=True, how='outer').sort_values(by='rank_base')\n",
    "display_errors(df)\n",
    "df = df.rename(columns={'pagerank':'pagerank_3','rank':'rank_3'})"
   ]
  },
  {
   "cell_type": "code",
   "execution_count": null,
   "metadata": {
    "scrolled": false
   },
   "outputs": [],
   "source": [
    "display(df.head(30), df.tail(30))"
   ]
  },
  {
   "cell_type": "markdown",
   "metadata": {},
   "source": [
    "### Node Statistics Lookup:"
   ]
  },
  {
   "cell_type": "code",
   "execution_count": null,
   "metadata": {
    "scrolled": false
   },
   "outputs": [],
   "source": [
    "# Create a copy of the original graph\n",
    "Gx = G.copy()\n",
    "\n",
    "stats = get_node_statistics(Gx)\n",
    "pageranks = pagerank(Gx)\n",
    "\n",
    "node = 2426\n",
    "\n",
    "display(stats.iloc[node-1])\n",
    "display(pageranks[pageranks.index == str(node)])\n",
    "\n",
    "display(pageranks.head(10))\n",
    "display(pageranks.tail(10))"
   ]
  },
  {
   "cell_type": "code",
   "execution_count": null,
   "metadata": {
    "scrolled": false
   },
   "outputs": [],
   "source": [
    "Gx = G.copy().to_undirected()\n",
    "\n",
    "partition = community.best_partition(Gx)\n",
    "\n",
    "size = float(len(set(partition.values())))\n",
    "pos = nx.spring_layout(Gx)\n",
    "count = 0.\n",
    "for com in set(partition.values()):\n",
    "    count = count + 1.\n",
    "    list_nodes = [nodes for nodes in partition.keys()\n",
    "                                if partition[nodes] == com]\n",
    "    nx.draw_networkx_nodes(Gx, pos, list_nodes, node_size = 20,\n",
    "                                node_color = str(count / size))\n",
    "\n",
    "\n",
    "nx.draw_networkx_edges(Gx,pos, alpha=0.5)\n",
    "plt.show()"
   ]
  }
 ],
 "metadata": {
  "kernelspec": {
   "display_name": "Python 3",
   "language": "python",
   "name": "python3"
  },
  "language_info": {
   "codemirror_mode": {
    "name": "ipython",
    "version": 3
   },
   "file_extension": ".py",
   "mimetype": "text/x-python",
   "name": "python",
   "nbconvert_exporter": "python",
   "pygments_lexer": "ipython3",
   "version": "3.6.4"
  }
 },
 "nbformat": 4,
 "nbformat_minor": 2
}
