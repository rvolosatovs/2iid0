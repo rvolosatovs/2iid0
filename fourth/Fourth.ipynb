{
 "cells": [
  {
   "cell_type": "code",
   "execution_count": null,
   "metadata": {},
   "outputs": [],
   "source": [
    "%matplotlib inline\n",
    "\n",
    "import random\n",
    "import numpy as np\n",
    "import matplotlib.pyplot as plt\n",
    "import pandas as pd\n",
    "import networkx as nx"
   ]
  },
  {
   "cell_type": "code",
   "execution_count": null,
   "metadata": {},
   "outputs": [],
   "source": [
    "# Load the edge list and create a directed Graph\n",
    "with open(\"hamster.edgelist\", 'rb') as fh:\n",
    "    G = nx.read_edgelist(fh, create_using=nx.DiGraph())"
   ]
  },
  {
   "cell_type": "code",
   "execution_count": null,
   "metadata": {},
   "outputs": [],
   "source": [
    "# Visualize a pandas DataFrame\n",
    "def visualize(df, name=\"graph\"):\n",
    "    print('Pagerank distribution')\n",
    "    df['pagerank'].plot.hist(bins=100)\n",
    "    plt.title('PageRank Distribution')\n",
    "    plt.savefig(name + \".png\", bbox_inches='tight')\n",
    "    plt.show()\n",
    "    \n",
    "    print('Log scale')\n",
    "    df['pagerank'].apply(np.log).plot.hist(bins=100)\n",
    "    plt.title('PageRank Distribution (log scale)')\n",
    "    plt.savefig(name + \"_log.png\", bbox_inches='tight')\n",
    "    plt.show()"
   ]
  },
  {
   "cell_type": "code",
   "execution_count": null,
   "metadata": {},
   "outputs": [],
   "source": [
    "# Sort a pandas DataFrame by PageRank\n",
    "def sort_by_pagerank(df):\n",
    "    return df.sort_values(by='pagerank', ascending=False).reset_index().rename(columns={'index':'name'})"
   ]
  },
  {
   "cell_type": "code",
   "execution_count": null,
   "metadata": {},
   "outputs": [],
   "source": [
    "# Calculate the PageRank for the nodes in directed graph G\n",
    "def pagerank(G):\n",
    "    return pd.DataFrame.from_dict(nx.pagerank(G), orient='index').rename(columns={0: 'pagerank'})"
   ]
  },
  {
   "cell_type": "code",
   "execution_count": null,
   "metadata": {},
   "outputs": [],
   "source": [
    "# Display some PageRank statistics from a pandas DataFrame\n",
    "def display_rank(df):\n",
    "    df = sort_by_pagerank(df)\n",
    "    \n",
    "    print(\"Top 10:\\n\")\n",
    "    display(df.head(10))\n",
    "    \n",
    "    print(\"Lowest 10:\\n\")\n",
    "    display(df.tail(10))"
   ]
  },
  {
   "cell_type": "code",
   "execution_count": null,
   "metadata": {},
   "outputs": [],
   "source": [
    "def rank_error(df, base):\n",
    "    nr = sort_by_pagerank(df) \n",
    "    br = sort_by_pagerank(base)\n",
    "    \n",
    "    display(nr)\n",
    "    e = 0\n",
    "    for (i,r) in base.iterrows():\n",
    "        #e += abs(r.rank - nr['name' == r.name][0])\n",
    "        display(r.rank)\n",
    "        display(nr[nr['name' == r.name]][0])\n",
    "    \n",
    "   # return br.apply(lambda r: r., axis='columns')"
   ]
  },
  {
   "cell_type": "code",
   "execution_count": null,
   "metadata": {},
   "outputs": [],
   "source": [
    "# Retrieve the nodes that have a certain in-degree and out-degree\n",
    "def get_nodes_by_degree(graph, in_degree, out_degree):\n",
    "    # Initialize a list to store the nodes in\n",
    "    nodes = []\n",
    "\n",
    "    # Loop through all the nodes and the degrees\n",
    "    for node in graph.nodes():\n",
    "        if graph.in_degree(node) == in_degree and graph.out_degree(node) == out_degree:\n",
    "            nodes.append(node)\n",
    "\n",
    "    return nodes"
   ]
  },
  {
   "cell_type": "code",
   "execution_count": null,
   "metadata": {},
   "outputs": [],
   "source": [
    "# Get the leaf nodes of a graph\n",
    "def get_leaves(graph):\n",
    "    return get_nodes_by_degree(graph, 1, 0)"
   ]
  },
  {
   "cell_type": "code",
   "execution_count": null,
   "metadata": {},
   "outputs": [],
   "source": [
    "# Retrieve some statistics per node\n",
    "def get_node_statistics(graph):\n",
    "    # Initialize a list to store the nodes in\n",
    "    nodes = []\n",
    "\n",
    "    for node in graph.nodes():\n",
    "        in_degree = graph.in_degree(node)\n",
    "        out_degree = graph.out_degree(node)\n",
    "\n",
    "        nodes.append({\n",
    "            'node': node,\n",
    "            'in_degree': in_degree,\n",
    "            'out_degree': out_degree,\n",
    "            'sum': in_degree + out_degree\n",
    "        })\n",
    "        \n",
    "    return pd.DataFrame.from_records(nodes, index='node')"
   ]
  },
  {
   "cell_type": "markdown",
   "metadata": {},
   "source": [
    "#### Original graph"
   ]
  },
  {
   "cell_type": "code",
   "execution_count": null,
   "metadata": {
    "scrolled": false
   },
   "outputs": [],
   "source": [
    "base = pagerank(G)\n",
    "visualize(base, \"original\")\n",
    "display_rank(base)"
   ]
  },
  {
   "cell_type": "markdown",
   "metadata": {},
   "source": [
    "#### Graph with random edges removed"
   ]
  },
  {
   "cell_type": "code",
   "execution_count": null,
   "metadata": {},
   "outputs": [],
   "source": [
    "Gx = G.copy()\n",
    "Gx.remove_edges_from(random.sample(G.edges(), 20*G.number_of_edges()//100))\n",
    "pr = pagerank(Gx)\n",
    "visualize(pr, \"random_edges_removed\")\n",
    "display_rank(pr)"
   ]
  },
  {
   "cell_type": "code",
   "execution_count": null,
   "metadata": {},
   "outputs": [],
   "source": [
    "rank_error(pr, base)"
   ]
  },
  {
   "cell_type": "markdown",
   "metadata": {},
   "source": [
    "#### Graph with random leaves (and their edges) removed"
   ]
  },
  {
   "cell_type": "code",
   "execution_count": null,
   "metadata": {
    "scrolled": true
   },
   "outputs": [],
   "source": [
    "# Create a copy of the original graph\n",
    "Gx = G.copy()\n",
    "\n",
    "# Randomly remove leaves from the graph\n",
    "leaves = get_leaves(Gx)\n",
    "leaf_edges = Gx.in_edges(leaves)\n",
    "\n",
    "# Remove edges only\n",
    "# Gx.remove_edges_from(random.sample(list(leaf_edges), 20*len(leaf_edges)//100))\n",
    "\n",
    "# Remove both edges and nodes\n",
    "Gx.remove_nodes_from(random.sample(leaves, 20*len(leaves)//100))\n",
    "\n",
    "# Calculate the PageRank\n",
    "pr = pagerank(Gx)\n",
    "\n",
    "# Show some statistics about the new graph\n",
    "visualize(pr, \"random_leaves_removed\")\n",
    "display_rank(pr)"
   ]
  },
  {
   "cell_type": "markdown",
   "metadata": {},
   "source": [
    "#### Graph with most connected nodes removed"
   ]
  },
  {
   "cell_type": "code",
   "execution_count": null,
   "metadata": {},
   "outputs": [],
   "source": [
    "# Create a copy of the original graph\n",
    "Gx = G.copy()\n",
    "\n",
    "# Sort list in descending order\n",
    "connected = get_node_statistics(Gx).sort_values(['sum'], ascending=False)\n",
    "\n",
    "# Select the x most connected nodes, where x is random\n",
    "most_connected = connected.head(random.randint(1, 20*len(connected)//100))\n",
    "\n",
    "# Remove some of the most connected nodes\n",
    "Gx.remove_nodes_from(most_connected.index.tolist())\n",
    "\n",
    "# Calculate the PageRank\n",
    "pr = pagerank(Gx)\n",
    "\n",
    "# Show some statistics about the new graph\n",
    "visualize(pr)\n",
    "display_rank(pr)"
   ]
  },
  {
   "cell_type": "markdown",
   "metadata": {},
   "source": [
    "### Node Statistics Lookup:"
   ]
  },
  {
   "cell_type": "code",
   "execution_count": null,
   "metadata": {},
   "outputs": [],
   "source": [
    "# Create a copy of the original graph\n",
    "Gx = G.copy()\n",
    "\n",
    "stats = get_node_statistics(Gx)\n",
    "\n",
    "node = 34\n",
    "\n",
    "display(stats.iloc[node-1])"
   ]
  },
  {
   "cell_type": "code",
   "execution_count": null,
   "metadata": {},
   "outputs": [],
   "source": []
  }
 ],
 "metadata": {
  "kernelspec": {
   "display_name": "Python 3",
   "language": "python",
   "name": "python3"
  },
  "language_info": {
   "codemirror_mode": {
    "name": "ipython",
    "version": 3
   },
   "file_extension": ".py",
   "mimetype": "text/x-python",
   "name": "python",
   "nbconvert_exporter": "python",
   "pygments_lexer": "ipython3",
   "version": "3.6.4"
  }
 },
 "nbformat": 4,
 "nbformat_minor": 2
}
