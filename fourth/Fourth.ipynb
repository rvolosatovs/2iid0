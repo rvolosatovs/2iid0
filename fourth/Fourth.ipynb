{
 "cells": [
  {
   "cell_type": "code",
   "execution_count": null,
   "metadata": {},
   "outputs": [],
   "source": [
    "%matplotlib inline\n",
    "\n",
    "import random\n",
    "import numpy as np\n",
    "import matplotlib.pyplot as plt\n",
    "import pandas as pd\n",
    "import networkx as nx"
   ]
  },
  {
   "cell_type": "code",
   "execution_count": null,
   "metadata": {},
   "outputs": [],
   "source": [
    "# Load the edge list and create a directed Graph\n",
    "with open(\"hamster.edgelist\", 'rb') as fh:\n",
    "    G = nx.read_edgelist(fh, create_using=nx.DiGraph())"
   ]
  },
  {
   "cell_type": "code",
   "execution_count": null,
   "metadata": {},
   "outputs": [],
   "source": [
    "# Calculate the PageRank for the nodes in directed graph G\n",
    "def pagerank(G):\n",
    "    return pd.DataFrame.from_dict(nx.pagerank(G), orient='index').rename(columns={0: 'pagerank'})"
   ]
  },
  {
   "cell_type": "code",
   "execution_count": null,
   "metadata": {},
   "outputs": [],
   "source": [
    "# Visualize a pandas DataFrame\n",
    "def visualize(df):\n",
    "    print('Pagerank distribution')\n",
    "    df['pagerank'].plot.hist(bins=100)\n",
    "    plt.title('PageRank Distribution')\n",
    "    plt.show()\n",
    "    \n",
    "    print('Log scale')\n",
    "    df['pagerank'].apply(np.log).plot.hist(bins=100)\n",
    "    plt.title('PageRank Distribution (log scale)')\n",
    "    plt.show()"
   ]
  },
  {
   "cell_type": "code",
   "execution_count": null,
   "metadata": {},
   "outputs": [],
   "source": [
    "# Sort a pandas DataFrame by PageRank\n",
    "def sort_by_pagerank(df):\n",
    "    return df.sort_values(by='pagerank', ascending=False)"
   ]
  },
  {
   "cell_type": "code",
   "execution_count": null,
   "metadata": {},
   "outputs": [],
   "source": [
    "# Display some PageRank statistics from a pandas DataFrame\n",
    "def display_rank(df):\n",
    "    # Sort the DataFrame by PageRank\n",
    "    ranking = sort_by_pagerank(df)\n",
    "    \n",
    "    print(\"Top 10:\\n\")\n",
    "    display(ranking.head(10))\n",
    "    \n",
    "    print(\"Lowest 10:\\n\")\n",
    "    display(ranking.tail(10))"
   ]
  },
  {
   "cell_type": "code",
   "execution_count": null,
   "metadata": {},
   "outputs": [],
   "source": [
    "def compute_error(base, df):\n",
    "    br = sort_by_pagerank(base)\n",
    "    nr = sort_by_pagerank(df)  "
   ]
  },
  {
   "cell_type": "markdown",
   "metadata": {},
   "source": [
    "#### Original graph"
   ]
  },
  {
   "cell_type": "code",
   "execution_count": null,
   "metadata": {},
   "outputs": [],
   "source": [
    "base = pagerank(G)\n",
    "vizualize(base)\n",
    "display_rank(base)"
   ]
  },
  {
   "cell_type": "markdown",
   "metadata": {},
   "source": [
    "#### Graph with random edges removed"
   ]
  },
  {
   "cell_type": "code",
   "execution_count": null,
   "metadata": {},
   "outputs": [],
   "source": [
    "Gx = G.copy()\n",
    "Gx.remove_edges_from(random.sample(G.edges(), 20*G.number_of_edges()//100))\n",
    "pr = pagerank(Gx)\n",
    "vizualize(pr)\n",
    "display_rank(pr)"
   ]
  },
  {
   "cell_type": "code",
   "execution_count": null,
   "metadata": {},
   "outputs": [],
   "source": []
  }
 ],
 "metadata": {
  "kernelspec": {
   "display_name": "Python 3",
   "language": "python",
   "name": "python3"
  },
  "language_info": {
   "codemirror_mode": {
    "name": "ipython",
    "version": 3
   },
   "file_extension": ".py",
   "mimetype": "text/x-python",
   "name": "python",
   "nbconvert_exporter": "python",
   "pygments_lexer": "ipython3",
   "version": "3.6.4"
  }
 },
 "nbformat": 4,
 "nbformat_minor": 2
}
