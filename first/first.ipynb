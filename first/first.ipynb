{
 "cells": [
  {
   "cell_type": "code",
   "execution_count": null,
   "metadata": {},
   "outputs": [],
   "source": [
    "import numpy as np"
   ]
  },
  {
   "cell_type": "code",
   "execution_count": null,
   "metadata": {},
   "outputs": [],
   "source": [
    "import matplotlib.pyplot as plt"
   ]
  },
  {
   "cell_type": "code",
   "execution_count": null,
   "metadata": {},
   "outputs": [],
   "source": [
    "import pandas as pd"
   ]
  },
  {
   "cell_type": "code",
   "execution_count": null,
   "metadata": {},
   "outputs": [],
   "source": [
    "import math"
   ]
  },
  {
   "cell_type": "code",
   "execution_count": null,
   "metadata": {},
   "outputs": [],
   "source": [
    "from sklearn import tree, metrics, svm"
   ]
  },
  {
   "cell_type": "code",
   "execution_count": null,
   "metadata": {},
   "outputs": [],
   "source": [
    "from sklearn.model_selection import train_test_split"
   ]
  },
  {
   "cell_type": "code",
   "execution_count": null,
   "metadata": {},
   "outputs": [],
   "source": [
    "from sklearn.preprocessing import LabelBinarizer, Imputer"
   ]
  },
  {
   "cell_type": "code",
   "execution_count": null,
   "metadata": {},
   "outputs": [],
   "source": [
    "import graphviz"
   ]
  },
  {
   "cell_type": "code",
   "execution_count": null,
   "metadata": {},
   "outputs": [],
   "source": [
    "input_file=\"data.csv\""
   ]
  },
  {
   "cell_type": "code",
   "execution_count": null,
   "metadata": {},
   "outputs": [],
   "source": [
    "df = pd.read_csv(input_file, header = 0, sep=',', thousands=',')"
   ]
  },
  {
   "cell_type": "code",
   "execution_count": null,
   "metadata": {},
   "outputs": [],
   "source": [
    "ages = df[['iid','age']].groupby(['iid']).mean()"
   ]
  },
  {
   "cell_type": "code",
   "execution_count": null,
   "metadata": {
    "scrolled": false
   },
   "outputs": [],
   "source": [
    "matches = df[['age', 'pid', 'match']].rename({'age': 'sAge'}, axis='columns')\n",
    "matches['pAge'] = matches.pid.apply(lambda x: math.nan if math.isnan(x) else ages.age[x])\n",
    "matches = matches.drop(['pid'], axis=1).dropna()\n",
    "matches.plot.hexbin(x='sAge', y='pAge', C='match', cmap=plt.cm.cool, reduce_C_function=np.mean, gridsize=22, sharex=False, sharey=False)\n",
    "plt.savefig('plot.pdf', format='pdf')\n",
    "plt.savefig('plot.png', dpi=400)\n",
    "plt.show()"
   ]
  },
  {
   "cell_type": "code",
   "execution_count": null,
   "metadata": {},
   "outputs": [],
   "source": [
    "# Preprocess data\n",
    "X = df.copy()\n",
    "X[['wave', 'attr1_1','sinc1_1','intel1_1','fun1_1','amb1_1','shar1_1',\n",
    "  'attr2_1','sinc2_1','intel2_1','fun2_1','amb2_1','shar2_1',\n",
    "  'attr3_1','sinc3_1','intel3_1','fun3_1','amb3_1',\n",
    "  'attr4_1','sinc4_1','intel4_1','fun4_1','amb4_1','shar4_1',\n",
    "  'attr5_1','sinc5_1','intel5_1','fun5_1','amb5_1']].query(\n",
    "    'wave >= 6 or wave <= 9').drop('wave', axis=1).apply(lambda x: x*10)\n",
    "\n",
    "X.drop(['iid', 'id', 'idg', 'condtn', 'wave', 'round', 'position',\n",
    "             'positin1', 'order', 'partner', 'pid', 'match',\n",
    "             'zipcode', # zipcode -> income\n",
    "             #'undergra', -> {mn_sat, tuition}\n",
    "             'attr', 'sinc', 'intel', 'fun', 'amb', 'shar', 'like', 'prob',\n",
    "             'dec',\n",
    "             'match',\n",
    "             'you_call', 'them_cal', 'date_3', 'numdat_3', 'num_in_3',\n",
    "            ], axis=1, inplace=True)\n",
    "\n",
    "Y = df['dec']\n",
    "\n",
    "# Copy to avoid looping over the array we're modifying\n",
    "cols = X.columns.values\n",
    "for col in cols:\n",
    "    if X[col].dtypes=='object':\n",
    "        #print('Classifying {0}'.format(col))\n",
    "        X = X.drop(col, axis=1)\n",
    "        # This is really heavy\n",
    "        #classes = X[col].str.get_dummies().rename(columns=lambda x: 'field-{0}'.format(x).replace(' ',''))\n",
    "        #X = pd.concat([X,classes])\n",
    "    elif X[col].dtypes=='float64' and X[col].isnull().values.any():\n",
    "        #print('Imputing {0}'.format(col))\n",
    "        # fill in missing values\n",
    "        if col == 'field_cd' or \\\n",
    "            col == 'gender' or \\\n",
    "            col == 'CHANGE ME': # TODO: add more classifiable fields\n",
    "            X[[col]]=Imputer(missing_values='NaN', strategy='most_frequent', axis=0).fit_transform(X[[col]])\n",
    "        else:\n",
    "            X[[col]]=Imputer(missing_values='NaN', strategy='mean', axis=0).fit_transform(X[[col]])\n",
    "        "
   ]
  },
  {
   "cell_type": "code",
   "execution_count": null,
   "metadata": {},
   "outputs": [],
   "source": [
    "def model(X,y,test_size=0.2,random_state=0,min_samples_split=300):\n",
    "    X_train, X_test, y_train, y_test = train_test_split(\n",
    "     X, y, test_size=test_size, random_state=42)\n",
    "\n",
    "    clf = tree.DecisionTreeClassifier(min_samples_split=min_samples_split)\n",
    "    clf = clf.fit(X_train, y_train)\n",
    "\n",
    "    y_predict = clf.predict(X_test)\n",
    "\n",
    "    accuracy = metrics.accuracy_score(y_test, y_predict)\n",
    "    tn, fp, fn, tp = metrics.confusion_matrix(y_test, y_predict).ravel()/len(y_test)\n",
    "    print(\"\"\"\n",
    "    Accuracy: {0:.2f}%\n",
    "    True negatives: {1:.2f}%\\tFalse negatives: {2:.2f}%\n",
    "    False positives: {3:.2f}%\\tTrue positives: {4:.2f}%\n",
    "    \"\"\".format(accuracy, tn, fp, fn, tp))\n",
    "\n",
    "    return clf"
   ]
  },
  {
   "cell_type": "code",
   "execution_count": null,
   "metadata": {},
   "outputs": [],
   "source": [
    "def vizualize(model, out_file=None):\n",
    "    graph = graphviz.Source(\n",
    "        tree.export_graphviz(model, out_file=None,\n",
    "                                feature_names=X.columns,\n",
    "                                filled=True, rounded=True,\n",
    "                                special_characters=True))\n",
    "    if not out_file == None:\n",
    "        graph.render(out_file)\n",
    "        \n",
    "    return graph  "
   ]
  },
  {
   "cell_type": "code",
   "execution_count": null,
   "metadata": {},
   "outputs": [],
   "source": [
    "fem_model_80 = model(X[X.gender == 1], Y[X.gender == 1], test_size=0.2, min_samples_split=300)\n",
    "vizualize(fem_model_80, out_file=\"fem_80\")\n",
    "vizualize(fem_model_80)"
   ]
  },
  {
   "cell_type": "code",
   "execution_count": null,
   "metadata": {},
   "outputs": [],
   "source": [
    "fem_model_20 = model(X[X.gender == 1], Y[X.gender == 1], test_size=0.8, min_samples_split=150)\n",
    "vizualize(fem_model_20, out_file=\"fem_20\")\n",
    "vizualize(fem_model_20)"
   ]
  },
  {
   "cell_type": "code",
   "execution_count": null,
   "metadata": {},
   "outputs": [],
   "source": [
    "man_model_80 = model(X[X.gender == 0], Y[X.gender == 0], test_size=0.2, min_samples_split=300)\n",
    "vizualize(man_model_80, out_file=\"man_80\")\n",
    "vizualize(man_model_80)"
   ]
  },
  {
   "cell_type": "code",
   "execution_count": null,
   "metadata": {},
   "outputs": [],
   "source": [
    "uni_model_80 = model(X, Y, test_size=0.2, min_samples_split=420)\n",
    "vizualize(uni_model_80, out_file=\"uni_80\")\n",
    "vizualize(uni_model_80)"
   ]
  }
 ],
 "metadata": {
  "kernelspec": {
   "display_name": "Python 3",
   "language": "python",
   "name": "python3"
  },
  "language_info": {
   "codemirror_mode": {
    "name": "ipython",
    "version": 3
   },
   "file_extension": ".py",
   "mimetype": "text/x-python",
   "name": "python",
   "nbconvert_exporter": "python",
   "pygments_lexer": "ipython3",
   "version": "3.6.3"
  }
 },
 "nbformat": 4,
 "nbformat_minor": 2
}
