{
 "cells": [
  {
   "cell_type": "code",
   "execution_count": null,
   "metadata": {
    "collapsed": true,
    "scrolled": false
   },
   "outputs": [],
   "source": [
    "%matplotlib inline\n",
    "\n",
    "import random\n",
    "import numpy as np\n",
    "import matplotlib.pyplot as plt\n",
    "import pandas as pd\n",
    "import os\n",
    "from datetime import datetime\n",
    "from graph_tool.all import * "
   ]
  },
  {
   "cell_type": "code",
   "execution_count": null,
   "metadata": {},
   "outputs": [],
   "source": [
    "#### Uncomment this block when running code for first time(and comment it back later)\n",
    "#####################################################################################\n",
    "#G = load_graph_from_csv(\"data/data.txt\", directed=True, eprop_types=['int', 'int'], eprop_names=['start', 'end'], string_vals=True, csv_options={'delimiter':' '})\n",
    "#G.save('data/original.gt')\n",
    "\n",
    "#graphs = []\n",
    "#for name in os.listdir('data/snapshots/csv'):\n",
    "#    if not name.endswith('.csv'):\n",
    "#        continue\n",
    "#        \n",
    "#    g = load_graph_from_csv(os.path.join('data/snapshots/csv', name), directed=True, string_vals=True)\n",
    "#    timestamp = g.new_graph_property('python::object')\n",
    "#    timestamp[g] = datetime.fromtimestamp(int(name[:-4]))\n",
    "#    g.graph_properties['timestamp'] = timestamp\n",
    "#    graphs.append(g)\n",
    "    \n",
    "#    g.save(os.path.join('data/snapshots/gt', name + '.gt'))"
   ]
  },
  {
   "cell_type": "code",
   "execution_count": null,
   "metadata": {},
   "outputs": [],
   "source": [
    "G = load_graph('data/original.gt')\n",
    "\n",
    "graphs = []\n",
    "for name in os.listdir('data/snapshots/gt'):\n",
    "    if not name.endswith('.gt'):\n",
    "        continue\n",
    "        \n",
    "    graphs.append(load_graph(os.path.join('data/snapshots/gt', name)))"
   ]
  },
  {
   "cell_type": "code",
   "execution_count": null,
   "metadata": {
    "collapsed": true
   },
   "outputs": [],
   "source": [
    "graphs = sorted(graphs, key=lambda g : g.graph_properties['timestamp'])\n",
    "graphs.append(G)"
   ]
  },
  {
   "cell_type": "code",
   "execution_count": null,
   "metadata": {
    "collapsed": true,
    "scrolled": true
   },
   "outputs": [],
   "source": [
    "for g in graphs:       \n",
    "    vertices = g.new_graph_property('float')\n",
    "    vertices[g] = len(g.get_vertices())\n",
    "    g.graph_properties['vertices'] = vertices\n",
    "    \n",
    "    edges = g.new_graph_property('float')\n",
    "    edges[g] = len(g.get_edges())\n",
    "    g.graph_properties['edges'] = edges"
   ]
  },
  {
   "cell_type": "code",
   "execution_count": null,
   "metadata": {
    "collapsed": true
   },
   "outputs": [],
   "source": [
    "for g in graphs:\n",
    "    degree_in = g.new_graph_property('float')\n",
    "    degree_in_std = g.new_graph_property('float')\n",
    "    degree_in[g], degree_in_std[g] = vertex_average(g, 'in')\n",
    "    g.graph_properties['degree_in'] = degree_in\n",
    "    g.graph_properties['degree_in_std'] = degree_in_std\n",
    "    \n",
    "    degree_out = g.new_graph_property('float')\n",
    "    degree_out_std = g.new_graph_property('float')\n",
    "    degree_out[g], degree_out_std[g] = vertex_average(g, 'out')\n",
    "    g.graph_properties['degree_out'] = degree_out\n",
    "    g.graph_properties['degree_out_std'] = degree_out_std\n",
    "    \n",
    "    degree_total = g.new_graph_property('float')\n",
    "    degree_total_std = g.new_graph_property('float')\n",
    "    degree_total[g], degree_total_std[g] = vertex_average(g, 'total')\n",
    "    g.graph_properties['degree_total'] = degree_total\n",
    "    g.graph_properties['degree_total_std'] = degree_total_std"
   ]
  },
  {
   "cell_type": "code",
   "execution_count": null,
   "metadata": {},
   "outputs": [],
   "source": [
    "for g in graphs:\n",
    "    clustering = g.new_graph_property('float')\n",
    "    clustering_std = g.new_graph_property('float')\n",
    "    clustering[g], clustering_std[g] = global_clustering(g)\n",
    "    g.graph_properties['clustering'] = clustering\n",
    "    g.graph_properties['clustering_std'] = clustering_std"
   ]
  },
  {
   "cell_type": "code",
   "execution_count": null,
   "metadata": {
    "collapsed": true
   },
   "outputs": [],
   "source": [
    "for g in graphs:\n",
    "    g.vertex_properties['pagerank'] = pagerank(g)"
   ]
  },
  {
   "cell_type": "code",
   "execution_count": null,
   "metadata": {
    "collapsed": true
   },
   "outputs": [],
   "source": [
    "for g in graphs:\n",
    "    hits_eigen = g.new_graph_property('float')\n",
    "    hits_eigen[g], g.vertex_properties['hits_authority'], g.vertex_properties['hits_hub'] = hits(g)\n",
    "    g.graph_properties['hits_eigen'] = hits_eigen"
   ]
  },
  {
   "cell_type": "code",
   "execution_count": null,
   "metadata": {
    "collapsed": true
   },
   "outputs": [],
   "source": [
    "for g in graphs:\n",
    "    diameter = g.new_graph_property('float')\n",
    "    diameter[g], _ = pseudo_diameter(g)\n",
    "    g.graph_properties['diameter'] = diameter"
   ]
  },
  {
   "cell_type": "code",
   "execution_count": null,
   "metadata": {
    "collapsed": true
   },
   "outputs": [],
   "source": [
    "for g in graphs:\n",
    "    g.vertex_properties['largest_connected_component'] = label_largest_component(g)"
   ]
  },
  {
   "cell_type": "code",
   "execution_count": null,
   "metadata": {
    "collapsed": true
   },
   "outputs": [],
   "source": [
    "#for g in graphs:\n",
    "#    print('-')\n",
    "#    g.vertex_properties['betweenness'], g.edge_properties['betweenness'] = betweenness(g)"
   ]
  },
  {
   "cell_type": "code",
   "execution_count": null,
   "metadata": {
    "collapsed": true
   },
   "outputs": [],
   "source": [
    " #   graphs[1].vertex_properties['closeness'] = closeness(graphs[1])\n",
    "#for g in graphs:\n",
    "  #  print('-')\n",
    "#    g.vertex_properties['closeness'] = closeness(g)"
   ]
  },
  {
   "cell_type": "code",
   "execution_count": null,
   "metadata": {},
   "outputs": [],
   "source": [
    "for (i,g) in enumerate(graphs):\n",
    "    print(i)\n",
    "#    g.remove_vertex(find_vertex(g, 'total', 0)) Also slow ???????\n",
    "    \n",
    "#    vertices_secluded = g.new_graph_property('float')\n",
    "#    vertices_secluded[g] = len(g.get_vertices()) - vertices[g]\n",
    "#    g.graph_properties['vertices_secluded'] = vertices_secluded"
   ]
  },
  {
   "cell_type": "code",
   "execution_count": null,
   "metadata": {},
   "outputs": [],
   "source": [
    "for (i,g) in enumerate(graphs):\n",
    "    print(i)\n",
    "    #g.vertex_properties['shortest_distances'] = shortest_distance(g)"
   ]
  },
  {
   "cell_type": "code",
   "execution_count": null,
   "metadata": {
    "collapsed": true
   },
   "outputs": [],
   "source": [
    "#for g in graphs:\n",
    "    # TODO: similarity(g1, g2) or vertex_similarity(g1, g2) ??"
   ]
  },
  {
   "cell_type": "code",
   "execution_count": null,
   "metadata": {
    "collapsed": true
   },
   "outputs": [],
   "source": [
    "#graph_draw(graphs[0], vertex_fill_color=g.vertex_properties['pagerank'], output=\"pagerank_0.pdf\") SLOW???"
   ]
  },
  {
   "cell_type": "code",
   "execution_count": null,
   "metadata": {},
   "outputs": [],
   "source": [
    "d = {}\n",
    "for g in graphs:\n",
    "    for (p, _) in g.graph_properties.items():\n",
    "        d[p] = [] \n",
    "        \n",
    "for g in graphs:\n",
    "    for p in d:\n",
    "        if p in g.graph_properties:\n",
    "            d[p].append(g.graph_properties[p])\n",
    "        else:\n",
    "            d[p].append(np.nan)\n",
    "        \n",
    "df = pd.DataFrame(d).sort_values('timestamp').reset_index(drop=True)\n",
    "display(df)"
   ]
  },
  {
   "cell_type": "code",
   "execution_count": null,
   "metadata": {
    "collapsed": true
   },
   "outputs": [],
   "source": []
  }
 ],
 "metadata": {
  "kernelspec": {
   "display_name": "Python 3",
   "language": "python",
   "name": "python3"
  },
  "language_info": {
   "codemirror_mode": {
    "name": "ipython",
    "version": 3
   },
   "file_extension": ".py",
   "mimetype": "text/x-python",
   "name": "python",
   "nbconvert_exporter": "python",
   "pygments_lexer": "ipython3",
   "version": "3.6.3"
  }
 },
 "nbformat": 4,
 "nbformat_minor": 2
}
