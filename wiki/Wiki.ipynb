{
 "cells": [
  {
   "cell_type": "code",
   "execution_count": null,
   "metadata": {
    "collapsed": true,
    "scrolled": false
   },
   "outputs": [],
   "source": [
    "%matplotlib inline\n",
    "\n",
    "import random\n",
    "import numpy as np\n",
    "import matplotlib.pyplot as plt\n",
    "import pandas as pd\n",
    "import os\n",
    "from graph_tool.all import * "
   ]
  },
  {
   "cell_type": "code",
   "execution_count": null,
   "metadata": {
    "collapsed": true
   },
   "outputs": [],
   "source": [
    "#G = load_graph_from_csv(\"data/data.txt\", directed=True, eprop_types=['int', 'int'], eprop_names=['start', 'end'], string_vals=False, csv_options={'delimiter':' '})\n",
    "#G.save('data/original.gt')"
   ]
  },
  {
   "cell_type": "code",
   "execution_count": null,
   "metadata": {
    "collapsed": true
   },
   "outputs": [],
   "source": [
    "G = load_graph('data/original.gt')"
   ]
  },
  {
   "cell_type": "code",
   "execution_count": null,
   "metadata": {
    "collapsed": true
   },
   "outputs": [],
   "source": [
    "graphs = []\n",
    "for name in os.listdir('data/snapshots/csv'):\n",
    "    graphs.append(load_graph_from_csv(os.path.join('data/snapshots/csv', name), directed=True, string_vals=False))"
   ]
  },
  {
   "cell_type": "code",
   "execution_count": null,
   "metadata": {
    "collapsed": true
   },
   "outputs": [],
   "source": [
    "for g in graphs:\n",
    "    g.vertex_properties['pagerank'] = pagerank(g)"
   ]
  },
  {
   "cell_type": "code",
   "execution_count": null,
   "metadata": {
    "collapsed": true,
    "scrolled": true
   },
   "outputs": [],
   "source": [
    "#for g in graphs:\n",
    "    #g.vertex_properties['betweenness'], g.edge_properties['betweenness'] = betweenness(g) SLOW"
   ]
  },
  {
   "cell_type": "code",
   "execution_count": null,
   "metadata": {
    "collapsed": true
   },
   "outputs": [],
   "source": [
    "for g in graphs:\n",
    "    hits_eigen = g.new_graph_property('float')\n",
    "    hits_eigen[g], g.vertex_properties['hits_authority'], g.vertex_properties['hits_hub'] = hits(g)\n",
    "    g.graph_properties['hits_eigen'] = hits_eigen"
   ]
  },
  {
   "cell_type": "code",
   "execution_count": null,
   "metadata": {
    "collapsed": true
   },
   "outputs": [],
   "source": [
    "for g in graphs:\n",
    "    degree = g.new_graph_property('python::object')\n",
    "    d = {}\n",
    "    d['total'], d['total_std'] = vertex_average(g, 'total')\n",
    "    d['in'], d['in_std'] = vertex_average(g, 'in')\n",
    "    d['out'], d['out_std'] = vertex_average(g, 'out')\n",
    "    degree[g] = d\n",
    "    g.graph_properties['degree'] = degree"
   ]
  },
  {
   "cell_type": "code",
   "execution_count": null,
   "metadata": {
    "collapsed": true
   },
   "outputs": [],
   "source": [
    "for g in graphs:\n",
    "    clustering_coef = g.new_graph_property('python::object')\n",
    "    c = {}\n",
    "    c['value'], c['std'] = global_clustering(g)\n",
    "    clustering_coef[g] = c\n",
    "    g.graph_properties['clustering'] = clustering_coef"
   ]
  },
  {
   "cell_type": "code",
   "execution_count": null,
   "metadata": {
    "collapsed": true
   },
   "outputs": [],
   "source": [
    "for g in graphs:\n",
    "    diameter = g.new_graph_property('float')\n",
    "    diameter[g], _ = pseudo_diameter(g)\n",
    "    g.graph_properties['diameter'] = diameter"
   ]
  },
  {
   "cell_type": "code",
   "execution_count": null,
   "metadata": {
    "collapsed": true
   },
   "outputs": [],
   "source": [
    "for g in graphs:\n",
    "    g.vertex_properties['largest_connected_component'] = label_largest_component(g)"
   ]
  },
  {
   "cell_type": "code",
   "execution_count": null,
   "metadata": {
    "collapsed": true
   },
   "outputs": [],
   "source": [
    "#for g in graphs:\n",
    "    #g.vertex_properties['shortest_distances'] = shortest_distance(g) SLOW"
   ]
  },
  {
   "cell_type": "code",
   "execution_count": null,
   "metadata": {
    "collapsed": true
   },
   "outputs": [],
   "source": [
    "#for g in graphs:\n",
    "    # TODO: similarity(g1, g2) or vertex_similarity(g1, g2) ??"
   ]
  },
  {
   "cell_type": "code",
   "execution_count": null,
   "metadata": {
    "collapsed": true
   },
   "outputs": [],
   "source": [
    "#graph_draw(graphs[0], vertex_fill_color=g.vertex_properties['pagerank'], output=\"pagerank_0.pdf\") SLOW???"
   ]
  }
 ],
 "metadata": {
  "kernelspec": {
   "display_name": "Python 3",
   "language": "python",
   "name": "python3"
  },
  "language_info": {
   "codemirror_mode": {
    "name": "ipython",
    "version": 3
   },
   "file_extension": ".py",
   "mimetype": "text/x-python",
   "name": "python",
   "nbconvert_exporter": "python",
   "pygments_lexer": "ipython3",
   "version": "3.6.3"
  }
 },
 "nbformat": 4,
 "nbformat_minor": 2
}
