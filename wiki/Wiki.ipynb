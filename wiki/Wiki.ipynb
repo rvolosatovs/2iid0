{
 "cells": [
  {
   "cell_type": "code",
   "execution_count": null,
   "metadata": {
    "collapsed": true,
    "scrolled": false
   },
   "outputs": [],
   "source": [
    "%matplotlib inline\n",
    "\n",
    "import random\n",
    "import numpy as np\n",
    "import matplotlib.pyplot as plt\n",
    "import pandas as pd\n",
    "import os\n",
    "from datetime import datetime\n",
    "from graph_tool.all import * "
   ]
  },
  {
   "cell_type": "code",
   "execution_count": null,
   "metadata": {
    "collapsed": true
   },
   "outputs": [],
   "source": [
    "#### Uncomment this block when running code for first time(and comment it back later)\n",
    "#####################################################################################\n",
    "#G = load_graph_from_csv(\"data/data.txt\", directed=True, eprop_types=['int', 'int'], eprop_names=['start', 'end'], string_vals=True, csv_options={'delimiter':' '})\n",
    "#G.save('data/original.gt')\n",
    "\n",
    "#graphs = []\n",
    "#for name in os.listdir('data/snapshots/csv'):\n",
    "#    if not name.endswith('.csv'):\n",
    "#        continue\n",
    "#        \n",
    "#    g = load_graph_from_csv(os.path.join('data/snapshots/csv', name), directed=True, string_vals=True)\n",
    "#    timestamp = g.new_graph_property('python::object')\n",
    "#    timestamp[g] = datetime.fromtimestamp(int(name[:-4]))\n",
    "#    g.graph_properties['timestamp'] = timestamp\n",
    "#    graphs.append(g)\n",
    "#    \n",
    "#    g.save(os.path.join('data/snapshots/gt', name + '.gt'))"
   ]
  },
  {
   "cell_type": "code",
   "execution_count": null,
   "metadata": {
    "collapsed": true
   },
   "outputs": [],
   "source": [
    "def saveGraphs(graphs):\n",
    "    for (i, g) in enumerate(graphs):\n",
    "        g.save(os.path.join('data', 'cache', 'graph_{0}.gt'.format(i)))"
   ]
  },
  {
   "cell_type": "code",
   "execution_count": null,
   "metadata": {},
   "outputs": [],
   "source": [
    "def loadGraphs():\n",
    "    return [load_graph(os.path.join('data', 'cache', name))\\\n",
    "          for name in os.listdir(os.path.join('data', 'cache'))\\\n",
    "          if name.endswith('.gt')]"
   ]
  },
  {
   "cell_type": "code",
   "execution_count": null,
   "metadata": {
    "collapsed": true
   },
   "outputs": [],
   "source": [
    "G = load_graph('data/original.gt')\n",
    "\n",
    "graphs = []\n",
    "for name in os.listdir('data/snapshots/gt'):\n",
    "    if not name.endswith('.gt'):\n",
    "        continue\n",
    "        \n",
    "    graphs.append(load_graph(os.path.join('data/snapshots/gt', name)))"
   ]
  },
  {
   "cell_type": "code",
   "execution_count": null,
   "metadata": {
    "collapsed": true
   },
   "outputs": [],
   "source": [
    "graphs = sorted(graphs, key=lambda g : g.graph_properties['timestamp'])\n",
    "graphs.append(G)"
   ]
  },
  {
   "cell_type": "code",
   "execution_count": null,
   "metadata": {
    "scrolled": true
   },
   "outputs": [],
   "source": [
    "for (i, g) in enumerate(graphs):\n",
    "    display(i)     \n",
    "    vertices = g.new_graph_property('float')\n",
    "    vertices[g] = len(g.get_vertices())\n",
    "    g.graph_properties['vertices'] = vertices\n",
    "    \n",
    "    edges = g.new_graph_property('float')\n",
    "    edges[g] = len(g.get_edges())\n",
    "    g.graph_properties['edges'] = edges"
   ]
  },
  {
   "cell_type": "code",
   "execution_count": null,
   "metadata": {
    "scrolled": true
   },
   "outputs": [],
   "source": [
    "for (i, g) in enumerate(graphs):\n",
    "    display(i)\n",
    "    degree_in = g.new_graph_property('float')\n",
    "    degree_in_std = g.new_graph_property('float')\n",
    "    degree_in[g], degree_in_std[g] = vertex_average(g, 'in')\n",
    "    g.graph_properties['degree_in'] = degree_in\n",
    "    g.graph_properties['degree_in_std'] = degree_in_std\n",
    "    \n",
    "    degree_out = g.new_graph_property('float')\n",
    "    degree_out_std = g.new_graph_property('float')\n",
    "    degree_out[g], degree_out_std[g] = vertex_average(g, 'out')\n",
    "    g.graph_properties['degree_out'] = degree_out\n",
    "    g.graph_properties['degree_out_std'] = degree_out_std\n",
    "    \n",
    "    degree_total = g.new_graph_property('float')\n",
    "    degree_total_std = g.new_graph_property('float')\n",
    "    degree_total[g], degree_total_std[g] = vertex_average(g, 'total')\n",
    "    g.graph_properties['degree_total'] = degree_total\n",
    "    g.graph_properties['degree_total_std'] = degree_total_std"
   ]
  },
  {
   "cell_type": "code",
   "execution_count": null,
   "metadata": {
    "scrolled": true
   },
   "outputs": [],
   "source": [
    "for (i, g) in enumerate(graphs):\n",
    "    display(i)\n",
    "    clustering = g.new_graph_property('float')\n",
    "    clustering_std = g.new_graph_property('float')\n",
    "    clustering[g], clustering_std[g] = global_clustering(g)\n",
    "    g.graph_properties['clustering'] = clustering\n",
    "    g.graph_properties['clustering_std'] = clustering_std"
   ]
  },
  {
   "cell_type": "code",
   "execution_count": null,
   "metadata": {
    "scrolled": true
   },
   "outputs": [],
   "source": [
    "for (i, g) in enumerate(graphs):\n",
    "    display(i)\n",
    "    g.vertex_properties['pagerank'] = pagerank(g)"
   ]
  },
  {
   "cell_type": "code",
   "execution_count": null,
   "metadata": {
    "scrolled": true
   },
   "outputs": [],
   "source": [
    "for (i, g) in enumerate(graphs):\n",
    "    display(i)\n",
    "    vs = g.get_vertices()\n",
    "    \n",
    "    degree_in = g.new_vertex_property('int')\n",
    "    for (i,v) in enumerate(g.get_in_degrees(vs)):\n",
    "        degree_in[i] = v\n",
    "    g.vertex_properties['degree_in'] = degree_in\n",
    "    \n",
    "    degree_out = g.new_vertex_property('int')\n",
    "    for (i,v) in enumerate(g.get_out_degrees(vs)):\n",
    "        degree_out[i] = v\n",
    "    g.vertex_properties['degree_out'] = degree_out\n",
    "    \n",
    "    degree_total = g.new_vertex_property('int')\n",
    "    for (i,v) in enumerate(degree_in):\n",
    "        degree_total[i] = v + degree_out[i]\n",
    "    g.vertex_properties['degree_total'] = degree_total"
   ]
  },
  {
   "cell_type": "code",
   "execution_count": null,
   "metadata": {
    "collapsed": true
   },
   "outputs": [],
   "source": [
    "graphs = loadGraphs()"
   ]
  },
  {
   "cell_type": "code",
   "execution_count": null,
   "metadata": {},
   "outputs": [],
   "source": [
    "for (i, g) in enumerate(graphs):\n",
    "    display(i)\n",
    "    display('deriving stochastic block model...')\n",
    "    m = g.new_graph_property('float')\n",
    "    bm = minimize_blockmodel_dl(g)\n",
    "    m[g] = modularity(g, bm.get_blocks())\n",
    "    g.graph_properties['modularity'] = m\n",
    "    \n",
    "   # display('visualizing...')\n",
    "    #bm.draw(output='communities_{0}.pdf'.format(i))"
   ]
  },
  {
   "cell_type": "code",
   "execution_count": null,
   "metadata": {
    "collapsed": true
   },
   "outputs": [],
   "source": [
    "for (i, g) in enumerate(graphs):\n",
    "    display(i)\n",
    "    eigen = g.new_graph_property('float')\n",
    "    eigen[g], g.vertex_properties['eigenvector'] = eigenvector(g)\n",
    "    g.graph_properties['eigenvector'] = eigen"
   ]
  },
  {
   "cell_type": "code",
   "execution_count": null,
   "metadata": {
    "collapsed": true
   },
   "outputs": [],
   "source": [
    "for (i, g) in enumerate(graphs):\n",
    "    display(i)\n",
    "    hits_eigen = g.new_graph_property('float')\n",
    "    hits_eigen[g], g.vertex_properties['hits_authority'], g.vertex_properties['hits_hub'] = hits(g)\n",
    "    g.graph_properties['hits_eigen'] = hits_eigen"
   ]
  },
  {
   "cell_type": "code",
   "execution_count": null,
   "metadata": {
    "collapsed": true
   },
   "outputs": [],
   "source": [
    "for (i, g) in enumerate(graphs):\n",
    "    display(i)\n",
    "    diameter = g.new_graph_property('float')\n",
    "    diameter[g], _ = pseudo_diameter(g)\n",
    "    g.graph_properties['diameter'] = diameter"
   ]
  },
  {
   "cell_type": "code",
   "execution_count": null,
   "metadata": {
    "collapsed": true
   },
   "outputs": [],
   "source": [
    "for (i, g) in enumerate(graphs):\n",
    "    display(i)\n",
    "    g.vertex_properties['largest_connected_component'] = label_largest_component(g)"
   ]
  },
  {
   "cell_type": "code",
   "execution_count": null,
   "metadata": {
    "collapsed": true
   },
   "outputs": [],
   "source": [
    "for (i, g) in enumerate(graphs):\n",
    "    display(i)\n",
    "    assortativity_in = g.new_graph_property('float')\n",
    "    assortativity_in_var = g.new_graph_property('float')\n",
    "    assortativity_out = g.new_graph_property('float')\n",
    "    assortativity_out_var = g.new_graph_property('float')\n",
    "    assortativity_total = g.new_graph_property('float')\n",
    "    assortativity_total_var = g.new_graph_property('float')\n",
    "    \n",
    "    assortativity_in[g], assortativity_in_var[g] = assortativity(g, 'in')\n",
    "    assortativity_out[g], assortativity_out_var[g] = assortativity(g, 'out')\n",
    "    assortativity_total[g], assortativity_total_var[g] = assortativity(g, 'total')\n",
    "    \n",
    "    g.graph_properties['assortativity_in'] = assortativity_in\n",
    "    g.graph_properties['assortativity_in_var'] = assortativity_in_var\n",
    "    g.graph_properties['assortativity_out'] = assortativity_out\n",
    "    g.graph_properties['assortativity_out_var'] = assortativity_out_var\n",
    "    g.graph_properties['assortativity_total'] = assortativity_total\n",
    "    g.graph_properties['assortativity_total_var'] = assortativity_total_var"
   ]
  },
  {
   "cell_type": "code",
   "execution_count": null,
   "metadata": {
    "collapsed": true
   },
   "outputs": [],
   "source": [
    "for (i, g) in enumerate(graphs):\n",
    "    display(i)\n",
    "    # Let's see if these visualizations are better\n",
    "    if i < 3:\n",
    "        graph_draw(g, pos=sfdp_layout(g), output=\"graph-{0}.pdf\".format(i))"
   ]
  },
  {
   "cell_type": "code",
   "execution_count": null,
   "metadata": {
    "collapsed": true,
    "scrolled": false
   },
   "outputs": [],
   "source": [
    "d = {}\n",
    "for g in graphs:\n",
    "    for (p, _) in g.graph_properties.items():\n",
    "        d[p] = [] \n",
    "        \n",
    "for g in graphs:\n",
    "    for p in d:\n",
    "        if p in g.graph_properties:\n",
    "            d[p].append(g.graph_properties[p])\n",
    "        else:\n",
    "            d[p].append(np.nan)\n",
    "        \n",
    "df = pd.DataFrame(d).sort_values('timestamp').reset_index(drop=True)\n",
    "display(df)"
   ]
  },
  {
   "cell_type": "code",
   "execution_count": null,
   "metadata": {
    "collapsed": true
   },
   "outputs": [],
   "source": [
    "d = {}\n",
    "for name in graphs[-1].vertex_properties['name'].get_2d_array([0])[0]:\n",
    "    d[name] = {}\n",
    "    \n",
    "for (i,g) in enumerate(graphs):\n",
    "    print(i)\n",
    "    for j in g.get_vertices():\n",
    "        name = g.vertex_properties['name'][j]\n",
    "        for (p, v) in g.vertex_properties.items():\n",
    "            d[name]['{0}_{1}'.format(p, i)] = v[j]\n",
    "            \n",
    "df = pd.DataFrame.from_dict(dx, orient='index')\n",
    "display(df)"
   ]
  },
  {
   "cell_type": "code",
   "execution_count": null,
   "metadata": {
    "collapsed": true
   },
   "outputs": [],
   "source": [
    "cols = df.columns\n",
    "for c in cols:\n",
    "    if c.endswith('_15'):    \n",
    "        df = df.rename(columns={c:c[:-3]+'_full'})"
   ]
  },
  {
   "cell_type": "code",
   "execution_count": null,
   "metadata": {
    "collapsed": true
   },
   "outputs": [],
   "source": [
    "df = df.sort_index()\n",
    "cols = df.columns\n",
    "for c in cols:\n",
    "    display(c)\n",
    "    df[\"rank_{0}\".format(c)] = df.sort_values(by=c, ascending=False).reset_index().rename_axis('rank').reset_index().set_index('id').sort_index()['rank'] + 1"
   ]
  },
  {
   "cell_type": "code",
   "execution_count": null,
   "metadata": {
    "collapsed": true
   },
   "outputs": [],
   "source": [
    "df.to_pickle('data/df.xz')"
   ]
  },
  {
   "cell_type": "code",
   "execution_count": null,
   "metadata": {
    "collapsed": true
   },
   "outputs": [],
   "source": [
    "### Start execution from here to avoid recomputations\n",
    "df = pd.read_pickle('data/df.xz')"
   ]
  },
  {
   "cell_type": "code",
   "execution_count": null,
   "metadata": {
    "collapsed": true
   },
   "outputs": [],
   "source": [
    "pr = df[df.columns[df.columns.str.contains('.*pagerank.*')]].sort_values(by='rank_pagerank_full')"
   ]
  },
  {
   "cell_type": "code",
   "execution_count": null,
   "metadata": {
    "collapsed": true,
    "scrolled": false
   },
   "outputs": [],
   "source": [
    "display(pr[pr.columns[pr.columns.str.contains('^pagerank.*')]].head(20))"
   ]
  },
  {
   "cell_type": "code",
   "execution_count": null,
   "metadata": {
    "collapsed": true
   },
   "outputs": [],
   "source": [
    "display(pr[pr.columns[pr.columns.str.contains('^rank_pagerank.*')]].head(20))"
   ]
  },
  {
   "cell_type": "code",
   "execution_count": null,
   "metadata": {
    "collapsed": true
   },
   "outputs": [],
   "source": [
    "hit = df[df.columns[df.columns.str.contains('.*hits.*')]].sort_values(by='rank_hits_authority_full')"
   ]
  },
  {
   "cell_type": "code",
   "execution_count": null,
   "metadata": {
    "collapsed": true
   },
   "outputs": [],
   "source": [
    "display(hit[hit.columns[hit.columns.str.contains('^hits_authority.*')]].head(20))"
   ]
  },
  {
   "cell_type": "code",
   "execution_count": null,
   "metadata": {
    "collapsed": true
   },
   "outputs": [],
   "source": [
    "display(hit[hit.columns[hit.columns.str.contains('^rank_hits_authority.*')]].head(20))"
   ]
  },
  {
   "cell_type": "code",
   "execution_count": null,
   "metadata": {
    "collapsed": true
   },
   "outputs": [],
   "source": [
    "hit = df[df.columns[df.columns.str.contains('.*hits.*')]].sort_values(by='rank_hits_hub_full')"
   ]
  },
  {
   "cell_type": "code",
   "execution_count": null,
   "metadata": {
    "collapsed": true
   },
   "outputs": [],
   "source": [
    "display(hit[hit.columns[hit.columns.str.contains('^hits_hub.*')]].head(20))"
   ]
  },
  {
   "cell_type": "code",
   "execution_count": null,
   "metadata": {
    "collapsed": true,
    "scrolled": false
   },
   "outputs": [],
   "source": [
    "display(hit[hit.columns[hit.columns.str.contains('^rank_hits_hub.*')]].head(20))"
   ]
  },
  {
   "cell_type": "code",
   "execution_count": null,
   "metadata": {},
   "outputs": [],
   "source": [
    "for i in range(15):\n",
    "    display(\"Size of largest connected component in snapshot {:d}: {:d}\".format(i, int(df['largest_connected_component_{0}'.format(i)].sum())))\n",
    "display(\"Size of largest connected component in full graph:  {:d}\".format(int(df['largest_connected_component_full'].sum())))"
   ]
  },
  {
   "cell_type": "code",
   "execution_count": null,
   "metadata": {
    "collapsed": true
   },
   "outputs": [],
   "source": [
    "degrees = df[df.columns[df.columns.str.contains('^degree.*')]].sort_values(by='degree_total_full')"
   ]
  },
  {
   "cell_type": "code",
   "execution_count": null,
   "metadata": {
    "collapsed": true
   },
   "outputs": [],
   "source": [
    "display(degrees[degrees.columns[degrees.columns.str.contains('^degree.*')]].head(20))"
   ]
  },
  {
   "cell_type": "code",
   "execution_count": null,
   "metadata": {
    "collapsed": true
   },
   "outputs": [],
   "source": [
    "display(degrees[degrees.columns[degrees.columns.str.contains('^rank_degree.*')]].head(20))"
   ]
  }
 ],
 "metadata": {
  "kernelspec": {
   "display_name": "Python 3",
   "language": "python",
   "name": "python3"
  },
  "language_info": {
   "codemirror_mode": {
    "name": "ipython",
    "version": 3
   },
   "file_extension": ".py",
   "mimetype": "text/x-python",
   "name": "python",
   "nbconvert_exporter": "python",
   "pygments_lexer": "ipython3",
   "version": "3.6.3"
  }
 },
 "nbformat": 4,
 "nbformat_minor": 2
}
